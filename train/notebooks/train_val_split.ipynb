{
 "cells": [
  {
   "cell_type": "code",
   "execution_count": 1,
   "id": "bf2297dd-33c2-4e81-a144-c5d305d496c9",
   "metadata": {},
   "outputs": [],
   "source": [
    "import pandas as pd"
   ]
  },
  {
   "cell_type": "code",
   "execution_count": 50,
   "id": "d7978007-b1cf-402a-88b4-c1feaa86e411",
   "metadata": {},
   "outputs": [],
   "source": [
    "df = pd.read_csv('train_dataset/train_data_yappy/train.csv')\n",
    "lost = ['148d5546-d548-4356-9758-fea8f78a6b53',\n",
    " '451fce51-b1ea-48d5-88af-acd47e01bde2',\n",
    " '29839028-3c0c-4410-ad87-c12ba73e970a',\n",
    " '036cb3a9-4505-43e1-a781-b58534bfecce',\n",
    " '2849de4d-adde-4444-9630-e3364386f39c',\n",
    " '18420466-1b4e-48b7-acb5-bde78533e411',\n",
    " '4bca443c-c599-4af1-a054-52d33042c298',\n",
    " '49262d22-8259-447f-9fe3-ed955267e3e1',\n",
    " '1e6e0666-4916-407c-a177-b514942f08ef',\n",
    " '01026d79-885d-49c5-b8a1-2bb9a603de4d',\n",
    " '371fa0d8-a871-4d35-871d-0f2816dd54da',\n",
    " '51584483-a52d-41cc-9a3b-d837f73b3b66',\n",
    " '56055f85-6cb6-4685-b637-f726adf89094',\n",
    " '319536be-bd65-4dbb-860a-59ac7cf13182',\n",
    " '0a8669d9-1491-4506-a8b6-6e48a31d3a78',\n",
    " '522c296e-acd9-4efb-bf7d-b89fb65f10af',\n",
    " '2585ccfe-ff93-4a66-b576-0a36625a1864',\n",
    " '4fbeff54-c185-4260-b46f-2bec691c722c',\n",
    " '37bd2eb3-be49-441f-8a27-14339a572d8d',\n",
    " '21cde408-dfc7-4042-a7cc-e0dee513333f',\n",
    " '36a9c90d-f7bf-4b7d-a62f-720ee39a0a3b',\n",
    " '4c4e8c7b-8c1b-45ef-9133-4f35920072d1',\n",
    " '4cd31b4e-4846-410d-a9ec-ffe41f90fd44',\n",
    " '15357ba9-a470-43bb-9cb9-871020d45fb0',\n",
    " '1035524b-f76c-4feb-94b6-2e78656bff6c',\n",
    " '1204e95d-28aa-4ea1-a4db-f45bd95fb819',\n",
    " '07ca69ad-88fc-4ace-af79-5dcab60a4731',\n",
    " '3dc31666-229d-4670-aab0-4aff80658036',\n",
    " '82e37a3a-1644-48ff-8da1-0aa06493ae07',\n",
    " '56d5079e-2312-45f8-8de0-f51bd92a214b',\n",
    " '1e72c9f1-76fe-4517-91ec-670e36cfdb84',\n",
    " '4a27b107-4c2c-42f0-a6d1-a32719e498bc',\n",
    " '35c3a425-1135-492f-b3f1-8a14a133a851',\n",
    " '0aecb2f0-692a-40fd-9307-ca17b2e909d1',\n",
    " '38decff0-0ced-4f43-841c-2d48a9f8239b',\n",
    " '1e354517-2ec6-485a-b456-941f5662e992',\n",
    " '4d655e25-f08c-4503-ab86-5929606b7671',\n",
    " '4c9a277e-7e5e-4342-8898-d1b26df0e36c',\n",
    " '32a55a63-9033-4efd-a153-546e9c722ae0',\n",
    " '538b7757-9cb5-4334-923e-d008e3bd9954',\n",
    " '0750350e-86de-4b1b-bd41-3e7cc8f51185',\n",
    " '15fff3ad-edaa-427e-995b-4a50e79300a5',\n",
    " '4422324c-7f22-45f2-973e-d54115d6c447',\n",
    " '32709ddf-4690-4992-aaa7-773539be5e5e',\n",
    " '0ab09ae7-94bc-4e64-bdc4-f5f4c8120e7b',\n",
    " '4177df41-427b-4e0e-98ea-7a7b0b5fcf5e',\n",
    " '2a3262a7-a55d-4b7c-8374-b37f1fd99501',\n",
    " '2f82730b-9d03-4132-9e69-850d6b45a41d',\n",
    " '3b763bb6-81bd-433d-ba18-8bc09873af6a',\n",
    " '52c02439-762b-460f-8de7-fd323fbd4954',\n",
    " '822f89d3-beb0-4a03-87da-1b83fafa60f0',\n",
    " '35abc2f2-2dfa-49fc-89b9-8a84afe2a09f',\n",
    " '4d12af27-877b-4c4c-8e22-4a3ea6f46903',\n",
    " '4bfe30c4-c9cf-4632-aaf9-505153f586d7',\n",
    " '243a2656-6c83-474f-b04b-576218bc68e7',\n",
    " '4ca4588d-6273-4820-9612-bb4eac938d6c',\n",
    " '3f63b5c2-1c4b-414b-b0db-ec022ea003cf',\n",
    " '05b523d4-ed62-48e0-90c0-a2babfe10f14',\n",
    " '242edbd3-d30f-4ff6-88c6-c646e93131f4',\n",
    " '07997e45-036c-4a43-b02d-1aa885bc83e4',\n",
    " '0cc8d2e4-1dce-4ebf-9469-2bfe79af3851',\n",
    " '4a25fe07-77dd-430e-ab98-c636a3a67f0b',\n",
    " '42921a72-73f1-454d-bf9a-931ebd19454c',\n",
    " '0feaf565-8420-4fc7-b911-9a1414c63afd',\n",
    " '2b7a2406-32af-44de-9168-9fcfaaa4457b',\n",
    " '20ffd5a4-6cfa-4b60-8b72-98d2906f4c77',\n",
    " '3ca7725a-c2a8-4703-96e6-ba21a6d10105']\n"
   ]
  },
  {
   "cell_type": "code",
   "execution_count": 68,
   "id": "f0239682-488c-43a4-8fa7-33d97f1354f0",
   "metadata": {},
   "outputs": [],
   "source": [
    "lost_orig = {\n",
    "    'created': [],\n",
    "    'uuid': [],\n",
    "    'link': [],\n",
    "    'is_duplicate': [],\n",
    "    'duplicate_for': [],\n",
    "    'is_hard': []\n",
    "}\n",
    "\n",
    "for orig_uuid in lost:\n",
    "    duplicate = df[df['duplicate_for'] == orig_uuid]\n",
    "    time_duplicate = duplicate['created'].item()\n",
    "    format_string = '%Y-%m-%d %H:%M:%S'\n",
    "    datetime_object = datetime.datetime.strptime(time_duplicate, format_string)\n",
    "    orig_datetime = datetime_object - datetime.timedelta(days=1)\n",
    "    orig_link = f'https://s3.ritm.media/yappy-db-duplicates/{orig_uuid}.mp4'\n",
    "    \n",
    "    lost_orig['created'].append(orig_datetime)\n",
    "    lost_orig['link'].append(orig_link)\n",
    "    lost_orig['uuid'].append(orig_uuid)\n",
    "    lost_orig['is_duplicate'].append(False)\n",
    "    lost_orig['duplicate_for'].append(None)\n",
    "    lost_orig['is_hard'].append(False)\n",
    "    \n",
    "lost_orig = pd.DataFrame(lost_orig)\n",
    "\n",
    "df = pd.concat([df, lost_orig]).reset_index()"
   ]
  },
  {
   "cell_type": "code",
   "execution_count": 71,
   "id": "362b7afc-9e46-4b4f-b033-26a85342b63f",
   "metadata": {},
   "outputs": [
    {
     "data": {
      "text/plain": [
       "(3697, 3697)"
      ]
     },
     "execution_count": 71,
     "metadata": {},
     "output_type": "execute_result"
    }
   ],
   "source": [
    "duplicates = df[df['is_duplicate']]['uuid'].tolist()\n",
    "source = df[df['is_duplicate']]['duplicate_for'].tolist()\n",
    "len(source), len(duplicates)"
   ]
  },
  {
   "cell_type": "code",
   "execution_count": 81,
   "id": "56ca3fb5-d512-430a-86cc-a55d5a22f653",
   "metadata": {},
   "outputs": [],
   "source": [
    "to_split = df[~df['uuid'].isin(source)]"
   ]
  },
  {
   "cell_type": "code",
   "execution_count": 82,
   "id": "a6b98385-2663-471b-b0c3-a0d46206f433",
   "metadata": {},
   "outputs": [],
   "source": [
    "from sklearn.model_selection import train_test_split"
   ]
  },
  {
   "cell_type": "code",
   "execution_count": 84,
   "id": "a20fcdfe-c994-4c49-bd9c-ab0d0085d049",
   "metadata": {},
   "outputs": [],
   "source": [
    "train, val = train_test_split(to_split, test_size=0.15, stratify=to_split['is_duplicate'], shuffle=True)"
   ]
  },
  {
   "cell_type": "code",
   "execution_count": 87,
   "id": "e9ebb5be-e8ae-4eb2-ad2e-f446c0a4a485",
   "metadata": {},
   "outputs": [
    {
     "data": {
      "text/plain": [
       "((16263, 7), (2870, 7))"
      ]
     },
     "execution_count": 87,
     "metadata": {},
     "output_type": "execute_result"
    }
   ],
   "source": [
    "train.shape, val.shape"
   ]
  },
  {
   "cell_type": "code",
   "execution_count": 88,
   "id": "a4c8dd5a-8062-4f5c-8aa7-008150c601ff",
   "metadata": {},
   "outputs": [
    {
     "data": {
      "text/plain": [
       "(22830, 7)"
      ]
     },
     "execution_count": 88,
     "metadata": {},
     "output_type": "execute_result"
    }
   ],
   "source": [
    "df.shape"
   ]
  },
  {
   "cell_type": "code",
   "execution_count": 93,
   "id": "66f2ca0a-f1bd-44d7-b41d-203cd1d41b6f",
   "metadata": {},
   "outputs": [],
   "source": [
    "orig = train[train['is_duplicate']]['duplicate_for']\n",
    "losted_train = df[df['uuid'].isin(orig)]\n",
    "train_final = pd.concat([losted_train, train]).reset_index()"
   ]
  },
  {
   "cell_type": "code",
   "execution_count": 94,
   "id": "90262dcf-3dbf-4e05-9a21-5b4e24c203da",
   "metadata": {},
   "outputs": [],
   "source": [
    "orig = val[val['is_duplicate']]['duplicate_for']\n",
    "losted_val = df[df['uuid'].isin(orig)]\n",
    "val_final = pd.concat([losted_val, val]).reset_index()"
   ]
  },
  {
   "cell_type": "code",
   "execution_count": 95,
   "id": "e95467c5-1d9e-4c64-8e6f-7d1690e49ffc",
   "metadata": {},
   "outputs": [
    {
     "data": {
      "text/plain": [
       "(22830, 22830)"
      ]
     },
     "execution_count": 95,
     "metadata": {},
     "output_type": "execute_result"
    }
   ],
   "source": [
    "df.shape[0], val_final.shape[0] + train_final.shape[0]"
   ]
  },
  {
   "cell_type": "code",
   "execution_count": 96,
   "id": "b284a21f-ebcf-4174-9638-5e4ed83fffff",
   "metadata": {},
   "outputs": [],
   "source": [
    "train_final.to_csv('train_split.csv', index=False)"
   ]
  },
  {
   "cell_type": "code",
   "execution_count": 97,
   "id": "e5e9a4a9-7176-4b5f-8c81-0c772c8aa8b6",
   "metadata": {},
   "outputs": [],
   "source": [
    "val_final.to_csv('val_split.csv', index=False)"
   ]
  },
  {
   "cell_type": "code",
   "execution_count": null,
   "id": "04a6230d-7188-4e2c-925d-66f5c41e38e3",
   "metadata": {},
   "outputs": [],
   "source": []
  },
  {
   "cell_type": "code",
   "execution_count": null,
   "id": "c6ad070f-0d28-4ff8-847b-b54a3ddee80e",
   "metadata": {},
   "outputs": [],
   "source": []
  },
  {
   "cell_type": "code",
   "execution_count": 44,
   "id": "efd6c773-5375-44f1-b957-ff9e5889b614",
   "metadata": {},
   "outputs": [
    {
     "data": {
      "text/plain": [
       "67"
      ]
     },
     "execution_count": 44,
     "metadata": {},
     "output_type": "execute_result"
    }
   ],
   "source": [
    "lost = []\n",
    "\n",
    "for x in source:\n",
    "    if x not in df['uuid'].tolist():\n",
    "        lost.append(x)\n",
    "        \n",
    "len(lost)"
   ]
  },
  {
   "cell_type": "code",
   "execution_count": null,
   "id": "be8bf9e5-56a9-4aa8-a4ad-e13f5a50ce6c",
   "metadata": {},
   "outputs": [],
   "source": [
    "df"
   ]
  },
  {
   "cell_type": "code",
   "execution_count": 45,
   "id": "dea1e105-0920-422b-b69d-7c839b09fede",
   "metadata": {},
   "outputs": [
    {
     "data": {
      "text/plain": [
       "['148d5546-d548-4356-9758-fea8f78a6b53',\n",
       " '451fce51-b1ea-48d5-88af-acd47e01bde2',\n",
       " '29839028-3c0c-4410-ad87-c12ba73e970a',\n",
       " '036cb3a9-4505-43e1-a781-b58534bfecce',\n",
       " '2849de4d-adde-4444-9630-e3364386f39c',\n",
       " '18420466-1b4e-48b7-acb5-bde78533e411',\n",
       " '4bca443c-c599-4af1-a054-52d33042c298',\n",
       " '49262d22-8259-447f-9fe3-ed955267e3e1',\n",
       " '1e6e0666-4916-407c-a177-b514942f08ef',\n",
       " '01026d79-885d-49c5-b8a1-2bb9a603de4d',\n",
       " '371fa0d8-a871-4d35-871d-0f2816dd54da',\n",
       " '51584483-a52d-41cc-9a3b-d837f73b3b66',\n",
       " '56055f85-6cb6-4685-b637-f726adf89094',\n",
       " '319536be-bd65-4dbb-860a-59ac7cf13182',\n",
       " '0a8669d9-1491-4506-a8b6-6e48a31d3a78',\n",
       " '522c296e-acd9-4efb-bf7d-b89fb65f10af',\n",
       " '2585ccfe-ff93-4a66-b576-0a36625a1864',\n",
       " '4fbeff54-c185-4260-b46f-2bec691c722c',\n",
       " '37bd2eb3-be49-441f-8a27-14339a572d8d',\n",
       " '21cde408-dfc7-4042-a7cc-e0dee513333f',\n",
       " '36a9c90d-f7bf-4b7d-a62f-720ee39a0a3b',\n",
       " '4c4e8c7b-8c1b-45ef-9133-4f35920072d1',\n",
       " '4cd31b4e-4846-410d-a9ec-ffe41f90fd44',\n",
       " '15357ba9-a470-43bb-9cb9-871020d45fb0',\n",
       " '1035524b-f76c-4feb-94b6-2e78656bff6c',\n",
       " '1204e95d-28aa-4ea1-a4db-f45bd95fb819',\n",
       " '07ca69ad-88fc-4ace-af79-5dcab60a4731',\n",
       " '3dc31666-229d-4670-aab0-4aff80658036',\n",
       " '82e37a3a-1644-48ff-8da1-0aa06493ae07',\n",
       " '56d5079e-2312-45f8-8de0-f51bd92a214b',\n",
       " '1e72c9f1-76fe-4517-91ec-670e36cfdb84',\n",
       " '4a27b107-4c2c-42f0-a6d1-a32719e498bc',\n",
       " '35c3a425-1135-492f-b3f1-8a14a133a851',\n",
       " '0aecb2f0-692a-40fd-9307-ca17b2e909d1',\n",
       " '38decff0-0ced-4f43-841c-2d48a9f8239b',\n",
       " '1e354517-2ec6-485a-b456-941f5662e992',\n",
       " '4d655e25-f08c-4503-ab86-5929606b7671',\n",
       " '4c9a277e-7e5e-4342-8898-d1b26df0e36c',\n",
       " '32a55a63-9033-4efd-a153-546e9c722ae0',\n",
       " '538b7757-9cb5-4334-923e-d008e3bd9954',\n",
       " '0750350e-86de-4b1b-bd41-3e7cc8f51185',\n",
       " '15fff3ad-edaa-427e-995b-4a50e79300a5',\n",
       " '4422324c-7f22-45f2-973e-d54115d6c447',\n",
       " '32709ddf-4690-4992-aaa7-773539be5e5e',\n",
       " '0ab09ae7-94bc-4e64-bdc4-f5f4c8120e7b',\n",
       " '4177df41-427b-4e0e-98ea-7a7b0b5fcf5e',\n",
       " '2a3262a7-a55d-4b7c-8374-b37f1fd99501',\n",
       " '2f82730b-9d03-4132-9e69-850d6b45a41d',\n",
       " '3b763bb6-81bd-433d-ba18-8bc09873af6a',\n",
       " '52c02439-762b-460f-8de7-fd323fbd4954',\n",
       " '822f89d3-beb0-4a03-87da-1b83fafa60f0',\n",
       " '35abc2f2-2dfa-49fc-89b9-8a84afe2a09f',\n",
       " '4d12af27-877b-4c4c-8e22-4a3ea6f46903',\n",
       " '4bfe30c4-c9cf-4632-aaf9-505153f586d7',\n",
       " '243a2656-6c83-474f-b04b-576218bc68e7',\n",
       " '4ca4588d-6273-4820-9612-bb4eac938d6c',\n",
       " '3f63b5c2-1c4b-414b-b0db-ec022ea003cf',\n",
       " '05b523d4-ed62-48e0-90c0-a2babfe10f14',\n",
       " '242edbd3-d30f-4ff6-88c6-c646e93131f4',\n",
       " '07997e45-036c-4a43-b02d-1aa885bc83e4',\n",
       " '0cc8d2e4-1dce-4ebf-9469-2bfe79af3851',\n",
       " '4a25fe07-77dd-430e-ab98-c636a3a67f0b',\n",
       " '42921a72-73f1-454d-bf9a-931ebd19454c',\n",
       " '0feaf565-8420-4fc7-b911-9a1414c63afd',\n",
       " '2b7a2406-32af-44de-9168-9fcfaaa4457b',\n",
       " '20ffd5a4-6cfa-4b60-8b72-98d2906f4c77',\n",
       " '3ca7725a-c2a8-4703-96e6-ba21a6d10105']"
      ]
     },
     "execution_count": 45,
     "metadata": {},
     "output_type": "execute_result"
    }
   ],
   "source": [
    "lost"
   ]
  },
  {
   "cell_type": "code",
   "execution_count": 38,
   "id": "bf8b6c9d-2ad4-45bb-a706-b66109446a84",
   "metadata": {},
   "outputs": [
    {
     "data": {
      "text/plain": [
       "'https://s3.ritm.media/yappy-db-duplicates/5317969a-3c90-47ed-82cd-68033f6faefd.mp4'"
      ]
     },
     "execution_count": 38,
     "metadata": {},
     "output_type": "execute_result"
    }
   ],
   "source": [
    "df.loc[22762, 'link']"
   ]
  },
  {
   "cell_type": "code",
   "execution_count": null,
   "id": "095bf2e4-5f28-4403-9f50-b531e0d992d9",
   "metadata": {},
   "outputs": [],
   "source": [
    "https://s3.ritm.media/yappy-db-duplicates/451fce51-b1ea-48d5-88af-acd47e01bde2.mp4"
   ]
  },
  {
   "cell_type": "code",
   "execution_count": 41,
   "id": "ccbcd5cd-2449-4804-91f5-6bb5333f4037",
   "metadata": {},
   "outputs": [],
   "source": [
    "for i in range(len(lost)):\n",
    "    lost[i] = f'https://s3.ritm.media/yappy-db-duplicates/{lost[i]}.mp4'"
   ]
  },
  {
   "cell_type": "code",
   "execution_count": 43,
   "id": "7041ea62-5a13-4ca4-819f-8c1d5a37f579",
   "metadata": {},
   "outputs": [
    {
     "name": "stdout",
     "output_type": "stream",
     "text": [
      "/home/jovyan/zorin\n"
     ]
    }
   ],
   "source": [
    "!pwd"
   ]
  },
  {
   "cell_type": "code",
   "execution_count": 42,
   "id": "b798aff9-a760-48f0-9c78-dd8f4278474c",
   "metadata": {},
   "outputs": [
    {
     "data": {
      "text/plain": [
       "['https://s3.ritm.media/yappy-db-duplicates/148d5546-d548-4356-9758-fea8f78a6b53.mp4',\n",
       " 'https://s3.ritm.media/yappy-db-duplicates/451fce51-b1ea-48d5-88af-acd47e01bde2.mp4',\n",
       " 'https://s3.ritm.media/yappy-db-duplicates/29839028-3c0c-4410-ad87-c12ba73e970a.mp4',\n",
       " 'https://s3.ritm.media/yappy-db-duplicates/036cb3a9-4505-43e1-a781-b58534bfecce.mp4',\n",
       " 'https://s3.ritm.media/yappy-db-duplicates/2849de4d-adde-4444-9630-e3364386f39c.mp4',\n",
       " 'https://s3.ritm.media/yappy-db-duplicates/18420466-1b4e-48b7-acb5-bde78533e411.mp4',\n",
       " 'https://s3.ritm.media/yappy-db-duplicates/4bca443c-c599-4af1-a054-52d33042c298.mp4',\n",
       " 'https://s3.ritm.media/yappy-db-duplicates/49262d22-8259-447f-9fe3-ed955267e3e1.mp4',\n",
       " 'https://s3.ritm.media/yappy-db-duplicates/1e6e0666-4916-407c-a177-b514942f08ef.mp4',\n",
       " 'https://s3.ritm.media/yappy-db-duplicates/01026d79-885d-49c5-b8a1-2bb9a603de4d.mp4',\n",
       " 'https://s3.ritm.media/yappy-db-duplicates/371fa0d8-a871-4d35-871d-0f2816dd54da.mp4',\n",
       " 'https://s3.ritm.media/yappy-db-duplicates/51584483-a52d-41cc-9a3b-d837f73b3b66.mp4',\n",
       " 'https://s3.ritm.media/yappy-db-duplicates/56055f85-6cb6-4685-b637-f726adf89094.mp4',\n",
       " 'https://s3.ritm.media/yappy-db-duplicates/319536be-bd65-4dbb-860a-59ac7cf13182.mp4',\n",
       " 'https://s3.ritm.media/yappy-db-duplicates/0a8669d9-1491-4506-a8b6-6e48a31d3a78.mp4',\n",
       " 'https://s3.ritm.media/yappy-db-duplicates/522c296e-acd9-4efb-bf7d-b89fb65f10af.mp4',\n",
       " 'https://s3.ritm.media/yappy-db-duplicates/2585ccfe-ff93-4a66-b576-0a36625a1864.mp4',\n",
       " 'https://s3.ritm.media/yappy-db-duplicates/4fbeff54-c185-4260-b46f-2bec691c722c.mp4',\n",
       " 'https://s3.ritm.media/yappy-db-duplicates/37bd2eb3-be49-441f-8a27-14339a572d8d.mp4',\n",
       " 'https://s3.ritm.media/yappy-db-duplicates/21cde408-dfc7-4042-a7cc-e0dee513333f.mp4',\n",
       " 'https://s3.ritm.media/yappy-db-duplicates/36a9c90d-f7bf-4b7d-a62f-720ee39a0a3b.mp4',\n",
       " 'https://s3.ritm.media/yappy-db-duplicates/4c4e8c7b-8c1b-45ef-9133-4f35920072d1.mp4',\n",
       " 'https://s3.ritm.media/yappy-db-duplicates/4cd31b4e-4846-410d-a9ec-ffe41f90fd44.mp4',\n",
       " 'https://s3.ritm.media/yappy-db-duplicates/15357ba9-a470-43bb-9cb9-871020d45fb0.mp4',\n",
       " 'https://s3.ritm.media/yappy-db-duplicates/1035524b-f76c-4feb-94b6-2e78656bff6c.mp4',\n",
       " 'https://s3.ritm.media/yappy-db-duplicates/1204e95d-28aa-4ea1-a4db-f45bd95fb819.mp4',\n",
       " 'https://s3.ritm.media/yappy-db-duplicates/07ca69ad-88fc-4ace-af79-5dcab60a4731.mp4',\n",
       " 'https://s3.ritm.media/yappy-db-duplicates/3dc31666-229d-4670-aab0-4aff80658036.mp4',\n",
       " 'https://s3.ritm.media/yappy-db-duplicates/82e37a3a-1644-48ff-8da1-0aa06493ae07.mp4',\n",
       " 'https://s3.ritm.media/yappy-db-duplicates/56d5079e-2312-45f8-8de0-f51bd92a214b.mp4',\n",
       " 'https://s3.ritm.media/yappy-db-duplicates/1e72c9f1-76fe-4517-91ec-670e36cfdb84.mp4',\n",
       " 'https://s3.ritm.media/yappy-db-duplicates/4a27b107-4c2c-42f0-a6d1-a32719e498bc.mp4',\n",
       " 'https://s3.ritm.media/yappy-db-duplicates/35c3a425-1135-492f-b3f1-8a14a133a851.mp4',\n",
       " 'https://s3.ritm.media/yappy-db-duplicates/0aecb2f0-692a-40fd-9307-ca17b2e909d1.mp4',\n",
       " 'https://s3.ritm.media/yappy-db-duplicates/38decff0-0ced-4f43-841c-2d48a9f8239b.mp4',\n",
       " 'https://s3.ritm.media/yappy-db-duplicates/1e354517-2ec6-485a-b456-941f5662e992.mp4',\n",
       " 'https://s3.ritm.media/yappy-db-duplicates/4d655e25-f08c-4503-ab86-5929606b7671.mp4',\n",
       " 'https://s3.ritm.media/yappy-db-duplicates/4c9a277e-7e5e-4342-8898-d1b26df0e36c.mp4',\n",
       " 'https://s3.ritm.media/yappy-db-duplicates/32a55a63-9033-4efd-a153-546e9c722ae0.mp4',\n",
       " 'https://s3.ritm.media/yappy-db-duplicates/538b7757-9cb5-4334-923e-d008e3bd9954.mp4',\n",
       " 'https://s3.ritm.media/yappy-db-duplicates/0750350e-86de-4b1b-bd41-3e7cc8f51185.mp4',\n",
       " 'https://s3.ritm.media/yappy-db-duplicates/15fff3ad-edaa-427e-995b-4a50e79300a5.mp4',\n",
       " 'https://s3.ritm.media/yappy-db-duplicates/4422324c-7f22-45f2-973e-d54115d6c447.mp4',\n",
       " 'https://s3.ritm.media/yappy-db-duplicates/32709ddf-4690-4992-aaa7-773539be5e5e.mp4',\n",
       " 'https://s3.ritm.media/yappy-db-duplicates/0ab09ae7-94bc-4e64-bdc4-f5f4c8120e7b.mp4',\n",
       " 'https://s3.ritm.media/yappy-db-duplicates/4177df41-427b-4e0e-98ea-7a7b0b5fcf5e.mp4',\n",
       " 'https://s3.ritm.media/yappy-db-duplicates/2a3262a7-a55d-4b7c-8374-b37f1fd99501.mp4',\n",
       " 'https://s3.ritm.media/yappy-db-duplicates/2f82730b-9d03-4132-9e69-850d6b45a41d.mp4',\n",
       " 'https://s3.ritm.media/yappy-db-duplicates/3b763bb6-81bd-433d-ba18-8bc09873af6a.mp4',\n",
       " 'https://s3.ritm.media/yappy-db-duplicates/52c02439-762b-460f-8de7-fd323fbd4954.mp4',\n",
       " 'https://s3.ritm.media/yappy-db-duplicates/822f89d3-beb0-4a03-87da-1b83fafa60f0.mp4',\n",
       " 'https://s3.ritm.media/yappy-db-duplicates/35abc2f2-2dfa-49fc-89b9-8a84afe2a09f.mp4',\n",
       " 'https://s3.ritm.media/yappy-db-duplicates/4d12af27-877b-4c4c-8e22-4a3ea6f46903.mp4',\n",
       " 'https://s3.ritm.media/yappy-db-duplicates/4bfe30c4-c9cf-4632-aaf9-505153f586d7.mp4',\n",
       " 'https://s3.ritm.media/yappy-db-duplicates/243a2656-6c83-474f-b04b-576218bc68e7.mp4',\n",
       " 'https://s3.ritm.media/yappy-db-duplicates/4ca4588d-6273-4820-9612-bb4eac938d6c.mp4',\n",
       " 'https://s3.ritm.media/yappy-db-duplicates/3f63b5c2-1c4b-414b-b0db-ec022ea003cf.mp4',\n",
       " 'https://s3.ritm.media/yappy-db-duplicates/05b523d4-ed62-48e0-90c0-a2babfe10f14.mp4',\n",
       " 'https://s3.ritm.media/yappy-db-duplicates/242edbd3-d30f-4ff6-88c6-c646e93131f4.mp4',\n",
       " 'https://s3.ritm.media/yappy-db-duplicates/07997e45-036c-4a43-b02d-1aa885bc83e4.mp4',\n",
       " 'https://s3.ritm.media/yappy-db-duplicates/0cc8d2e4-1dce-4ebf-9469-2bfe79af3851.mp4',\n",
       " 'https://s3.ritm.media/yappy-db-duplicates/4a25fe07-77dd-430e-ab98-c636a3a67f0b.mp4',\n",
       " 'https://s3.ritm.media/yappy-db-duplicates/42921a72-73f1-454d-bf9a-931ebd19454c.mp4',\n",
       " 'https://s3.ritm.media/yappy-db-duplicates/0feaf565-8420-4fc7-b911-9a1414c63afd.mp4',\n",
       " 'https://s3.ritm.media/yappy-db-duplicates/2b7a2406-32af-44de-9168-9fcfaaa4457b.mp4',\n",
       " 'https://s3.ritm.media/yappy-db-duplicates/20ffd5a4-6cfa-4b60-8b72-98d2906f4c77.mp4',\n",
       " 'https://s3.ritm.media/yappy-db-duplicates/3ca7725a-c2a8-4703-96e6-ba21a6d10105.mp4']"
      ]
     },
     "execution_count": 42,
     "metadata": {},
     "output_type": "execute_result"
    }
   ],
   "source": []
  },
  {
   "cell_type": "code",
   "execution_count": null,
   "id": "8d4ac505-4393-4c68-b275-21870cc19843",
   "metadata": {},
   "outputs": [],
   "source": []
  }
 ],
 "metadata": {
  "kernelspec": {
   "display_name": "Python 3 (ipykernel)",
   "language": "python",
   "name": "python3"
  },
  "language_info": {
   "codemirror_mode": {
    "name": "ipython",
    "version": 3
   },
   "file_extension": ".py",
   "mimetype": "text/x-python",
   "name": "python",
   "nbconvert_exporter": "python",
   "pygments_lexer": "ipython3",
   "version": "3.9.16"
  }
 },
 "nbformat": 4,
 "nbformat_minor": 5
}
