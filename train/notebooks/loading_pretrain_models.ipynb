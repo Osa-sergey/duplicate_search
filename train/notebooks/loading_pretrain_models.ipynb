{
 "cells": [
  {
   "cell_type": "code",
   "execution_count": 1,
   "id": "9345158b-4321-4f74-b164-d0a4e04a1718",
   "metadata": {},
   "outputs": [
    {
     "name": "stderr",
     "output_type": "stream",
     "text": [
      "\n",
      "libgomp: Invalid value for environment variable OMP_NUM_THREADS\n"
     ]
    }
   ],
   "source": [
    "import sys\n",
    "import torch\n",
    "sys.path.insert(0, '../')\n",
    "from models.model_factory.backbones.sscd import SSCDModel"
   ]
  },
  {
   "cell_type": "code",
   "execution_count": 2,
   "id": "cf35a1dd-03e3-4124-96c5-890a2160b951",
   "metadata": {},
   "outputs": [
    {
     "name": "stdout",
     "output_type": "stream",
     "text": [
      "initialize with vit_base_patch32_384\n",
      "add head: (768, 512)\n"
     ]
    },
    {
     "data": {
      "text/plain": [
       "<All keys matched successfully>"
      ]
     },
     "execution_count": 2,
     "metadata": {},
     "output_type": "execute_result"
    }
   ],
   "source": [
    "vit_model = SSCDModel(\n",
    "    name=\"vit_base_patch32_384\",\n",
    "    pool_param=3.,\n",
    "    pool=\"gem\",\n",
    "    # pretrained=pretrained,\n",
    "    use_classify=False,\n",
    "    dims=(768, 512),\n",
    "    add_head=True\n",
    ")\n",
    "\n",
    "vit_pretrain_state_dict = torch.jit.load('../model_checkpoints/vit_v68.torchscript.pt').state_dict()\n",
    "vit_model.load_state_dict(vit_pretrain_state_dict)   "
   ]
  },
  {
   "cell_type": "code",
   "execution_count": 6,
   "id": "a4c79b63-a71b-4c6d-9040-f13922d5a2b7",
   "metadata": {},
   "outputs": [],
   "source": [
    "vit_model.to('cuda')\n",
    "exmample_image = torch.randn((32, 3, 384, 384)).to('cuda')"
   ]
  },
  {
   "cell_type": "code",
   "execution_count": 7,
   "id": "525f3095-dab3-4238-a8fa-7e7f19b10cf5",
   "metadata": {},
   "outputs": [
    {
     "data": {
      "text/plain": [
       "tensor([[-0.2956,  0.1153, -0.0834,  ...,  0.1095, -0.2261,  0.0771],\n",
       "        [-0.2482,  0.0875, -0.0806,  ..., -0.0373, -0.3191,  0.0734],\n",
       "        [-0.2339, -0.1313, -0.1015,  ...,  0.0391, -0.3232,  0.0673],\n",
       "        ...,\n",
       "        [-0.5267,  0.0391, -0.2413,  ..., -0.0194, -0.2180, -0.1337],\n",
       "        [-0.3070,  0.1080,  0.0695,  ...,  0.0113, -0.1460, -0.0279],\n",
       "        [-0.1064,  0.0434,  0.1825,  ..., -0.0587, -0.0537,  0.1878]],\n",
       "       device='cuda:0', grad_fn=<AddmmBackward0>)"
      ]
     },
     "execution_count": 7,
     "metadata": {},
     "output_type": "execute_result"
    }
   ],
   "source": [
    "vit_model(exmample_image)"
   ]
  },
  {
   "cell_type": "code",
   "execution_count": null,
   "id": "e845765f-20b9-4655-a2db-9424661012e7",
   "metadata": {},
   "outputs": [],
   "source": []
  }
 ],
 "metadata": {
  "kernelspec": {
   "display_name": "Python 3 (ipykernel)",
   "language": "python",
   "name": "python3"
  },
  "language_info": {
   "codemirror_mode": {
    "name": "ipython",
    "version": 3
   },
   "file_extension": ".py",
   "mimetype": "text/x-python",
   "name": "python",
   "nbconvert_exporter": "python",
   "pygments_lexer": "ipython3",
   "version": "3.9.16"
  }
 },
 "nbformat": 4,
 "nbformat_minor": 5
}
